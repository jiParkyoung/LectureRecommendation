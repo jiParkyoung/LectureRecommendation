{
 "cells": [
  {
   "cell_type": "code",
   "execution_count": 290,
   "metadata": {},
   "outputs": [
    {
     "data": {
      "text/plain": [
       "27852"
      ]
     },
     "execution_count": 290,
     "metadata": {},
     "output_type": "execute_result"
    }
   ],
   "source": [
    "import pandas as pd\n",
    "data=pd.read_csv('최종.csv')\n",
    "data=data.dropna()\n",
    "len(data)"
   ]
  },
  {
   "cell_type": "code",
   "execution_count": 291,
   "metadata": {},
   "outputs": [],
   "source": [
    "#  1. 교양 2. 전공\n",
    "def select1():\n",
    "    print(\"1. 교양\")\n",
    "    print(\"2. 전공\")\n",
    "    n=int(input(\"입력하세요\"))\n",
    "\n",
    "    if n==1 or n==2:\n",
    "        return n\n",
    "    else:\n",
    "        print(\"다시 입력하세요\")\n",
    "        select1()"
   ]
  },
  {
   "cell_type": "code",
   "execution_count": 292,
   "metadata": {},
   "outputs": [
    {
     "name": "stdout",
     "output_type": "stream",
     "text": [
      "1. 교양\n",
      "2. 전공\n"
     ]
    }
   ],
   "source": [
    "n=select1()"
   ]
  },
  {
   "cell_type": "code",
   "execution_count": 293,
   "metadata": {},
   "outputs": [],
   "source": [
    "#select2 교양선택시 전공선택시+학년선택\n",
    "\n",
    "def select2(n, data):\n",
    "    gyoyang=['과학과 기술 영역','예술과체육 영역','사회와경제 영역','인간과철학 영역', '글로벌문화와제2외국어 영역','K-MOOC 영역','외국어로서의한국어 영역',\n",
    "         '서울권역 e-러닝 영역','필수 교양 교과목(정보영역)','필수 교양 교과목(광운인되기,영어)','필수 교양 교과목(융합적사고와글쓰기)']\n",
    "    jungong=['화학과','경영학부',\n",
    "    '정보콘텐츠학과','전자바이오물리학과','건축공학과','환경공학과','수학과 ','전기공학과','법학부','로봇학부','소프트웨어학부',\n",
    "    '전자공학과','컴퓨터정보공학부','스포츠융합과학과','전자융합공학과','전자재료공학과','정보융합학부','전자통신공학과','화학공학과']\n",
    "\n",
    "    if n==1:#교양\n",
    "        for i in range(len(gyoyang)):\n",
    "            print(i+1,end='')\n",
    "            print('. '+gyoyang[i])\n",
    "        a=int(input('교양 분류 번호를 입력하세요.'))-1\n",
    "        if 0<=a<len(gyoyang):\n",
    "            data=data[data['classification2']==gyoyang[a]]\n",
    "        else:\n",
    "            print('교양 분류를 다시 입력하세요.')\n",
    "            select2(n,data)\n",
    "        \n",
    "    elif n==2:#전공\n",
    "        for j in range(len(jungong)):\n",
    "            print(j+1,end='')\n",
    "            print('. '+jungong[j])\n",
    "        a=int(input('전공 분류 번호를 입력하세요.'))-1\n",
    "        if 0<=a<len(jungong):\n",
    "            data=data[data['classification2']==jungong[a]]\n",
    "        else:\n",
    "            print('전공 분류를 다시 입력하세요.')\n",
    "            select2(n,data)\n",
    "            \n",
    "    return n, data"
   ]
  },
  {
   "cell_type": "code",
   "execution_count": 294,
   "metadata": {},
   "outputs": [
    {
     "name": "stdout",
     "output_type": "stream",
     "text": [
      "1. 화학과\n",
      "2. 경영학부\n",
      "3. 정보콘텐츠학과\n",
      "4. 전자바이오물리학과\n",
      "5. 건축공학과\n",
      "6. 환경공학과\n",
      "7. 수학과 \n",
      "8. 전기공학과\n",
      "9. 법학부\n",
      "10. 로봇학부\n",
      "11. 소프트웨어학부\n",
      "12. 전자공학과\n",
      "13. 컴퓨터정보공학부\n",
      "14. 스포츠융합과학과\n",
      "15. 전자융합공학과\n",
      "16. 전자재료공학과\n",
      "17. 정보융합학부\n",
      "18. 전자통신공학과\n",
      "19. 화학공학과\n"
     ]
    }
   ],
   "source": [
    "n, data2=select2(n, data)"
   ]
  },
  {
   "cell_type": "code",
   "execution_count": 295,
   "metadata": {},
   "outputs": [],
   "source": [
    "#select3 교양-> 난이도(학년) / 전공-> 학년\n",
    "def select3(n, data):\n",
    "    level=[1,2,3,4]\n",
    "    for i in level:\n",
    "        print(i,end='')\n",
    "        print('. ',end='')\n",
    "        print(i,end='')\n",
    "        print('학년')\n",
    "        \n",
    "    if n==1:#교양\n",
    "        a=int(input('난이도(학년)을 선택하세요.'))\n",
    "        if a not in level:\n",
    "            print('난이도(학년)을 다시 선택하세요.')\n",
    "            select3(n,data)\n",
    "        else:\n",
    "            data=data[data['level']==a]\n",
    "            \n",
    "    elif n==2:#전공\n",
    "        a=int(input('학년을 선택하세요.'))\n",
    "        if a not in level:\n",
    "            print('학년을 다시 선택하세요.')\n",
    "            select3(n,data)\n",
    "        else:\n",
    "            data=data[data['level']==a]\n",
    "    \n",
    "    return data"
   ]
  },
  {
   "cell_type": "code",
   "execution_count": 296,
   "metadata": {},
   "outputs": [
    {
     "name": "stdout",
     "output_type": "stream",
     "text": [
      "1. 1학년\n",
      "2. 2학년\n",
      "3. 3학년\n",
      "4. 4학년\n"
     ]
    }
   ],
   "source": [
    "data3=select3(n,data2)"
   ]
  },
  {
   "cell_type": "code",
   "execution_count": 297,
   "metadata": {},
   "outputs": [],
   "source": [
    "#가중치 계산 후 강의와 텍스트 요약\n",
    "def select4(data):\n",
    "    condition={'팀플횟수':'group_meeting','과제횟수':'assignment','학점부여':'credit','시험횟수':'test_n','강의력':'lecture_faculty','교수인성':'insung'}\n",
    "    print('중요하게 생각하는 조건을 입력하세요')\n",
    "    k=1\n",
    "    for i in condition.keys():\n",
    "        print(k,end='')\n",
    "        print('. '+i)\n",
    "        k=k+1\n",
    "        \n",
    "    #우선순위 3개 입력받기\n",
    "    c1=int(input('첫번째 우선순위'))-1\n",
    "    c2=int(input('두번째 우선순위'))-1\n",
    "    c3=int(input('세번째 우선순위'))-1\n",
    "    if 0<=c1<len(condition) and 0<=c2<len(condition) and 0<=c3<len(condition):\n",
    "        data[list(condition.values())[c1]]=data[list(condition.values())[c1]]*2.5\n",
    "        data[list(condition.values())[c2]]=data[list(condition.values())[c2]]*2\n",
    "        data[list(condition.values())[c3]]=data[list(condition.values())[c3]]*1.5\n",
    "    else:\n",
    "        print('우선순위를 다시 선택하세요.')\n",
    "        select4(data)\n",
    "\n",
    "    data['r_score']=(data['group_meeting']+data['assignment']+data['credit']+data['test_n']+data['lecture_faculty']+data['insung'])*data['f_score']/9\n",
    "    dic=data.groupby('lecture_code')['r_score'].mean().to_dict()\n",
    "    max_key = max(dic, key=dic.get)\n",
    "    data=data[data['lecture_code']==max_key]\n",
    "    return data\n",
    "\n"
   ]
  },
  {
   "cell_type": "code",
   "execution_count": 300,
   "metadata": {},
   "outputs": [
    {
     "name": "stdout",
     "output_type": "stream",
     "text": [
      "중요하게 생각하는 조건을 입력하세요\n",
      "1. 팀플횟수\n",
      "2. 과제횟수\n",
      "3. 학점부여\n",
      "4. 시험횟수\n",
      "5. 강의력\n",
      "6. 교수인성\n",
      "추천 강의는 김현경교수님의 인터랙티브심리학 입니다.\n",
      "강의 한줄평: 시험이 쉽고 한 학기 동안 배우는 양이 좀 적어서 아쉬웠습니다. 로 하는 데이터 분석 과제가 나오는데 을 처음 접해도 할 만했습니다.\n"
     ]
    },
    {
     "name": "stderr",
     "output_type": "stream",
     "text": [
      "C:\\Users\\mae05\\AppData\\Local\\Temp\\ipykernel_405224\\3770229965.py:16: SettingWithCopyWarning: \n",
      "A value is trying to be set on a copy of a slice from a DataFrame.\n",
      "Try using .loc[row_indexer,col_indexer] = value instead\n",
      "\n",
      "See the caveats in the documentation: https://pandas.pydata.org/pandas-docs/stable/user_guide/indexing.html#returning-a-view-versus-a-copy\n",
      "  data[list(condition.values())[c1]]=data[list(condition.values())[c1]]*2.5\n",
      "C:\\Users\\mae05\\AppData\\Local\\Temp\\ipykernel_405224\\3770229965.py:17: SettingWithCopyWarning: \n",
      "A value is trying to be set on a copy of a slice from a DataFrame.\n",
      "Try using .loc[row_indexer,col_indexer] = value instead\n",
      "\n",
      "See the caveats in the documentation: https://pandas.pydata.org/pandas-docs/stable/user_guide/indexing.html#returning-a-view-versus-a-copy\n",
      "  data[list(condition.values())[c2]]=data[list(condition.values())[c2]]*2\n",
      "C:\\Users\\mae05\\AppData\\Local\\Temp\\ipykernel_405224\\3770229965.py:18: SettingWithCopyWarning: \n",
      "A value is trying to be set on a copy of a slice from a DataFrame.\n",
      "Try using .loc[row_indexer,col_indexer] = value instead\n",
      "\n",
      "See the caveats in the documentation: https://pandas.pydata.org/pandas-docs/stable/user_guide/indexing.html#returning-a-view-versus-a-copy\n",
      "  data[list(condition.values())[c3]]=data[list(condition.values())[c3]]*1.5\n",
      "C:\\Users\\mae05\\AppData\\Local\\Temp\\ipykernel_405224\\3770229965.py:23: SettingWithCopyWarning: \n",
      "A value is trying to be set on a copy of a slice from a DataFrame.\n",
      "Try using .loc[row_indexer,col_indexer] = value instead\n",
      "\n",
      "See the caveats in the documentation: https://pandas.pydata.org/pandas-docs/stable/user_guide/indexing.html#returning-a-view-versus-a-copy\n",
      "  data['r_score']=(data['group_meeting']+data['assignment']+data['credit']+data['test_n']+data['lecture_faculty']+data['insung'])*data['f_score']/9\n"
     ]
    }
   ],
   "source": [
    "\n",
    "    data4=select4(data3)\n",
    "    print(\"추천 강의는 \"+list(data4['professor_name'])[0]+\"교수님의 \"+list(data4['lecture_name'])[0]+' 입니다.')\n",
    "    print(\"강의 한줄평: \"+list(data4['extractive'])[0])"
   ]
  }
 ],
 "metadata": {
  "interpreter": {
   "hash": "768474605a9bbd7fb238fbb970065cdc9c3605f91c61fb2669bf6a38a61fa48e"
  },
  "kernelspec": {
   "display_name": "Python 3 (ipykernel)",
   "language": "python",
   "name": "python3"
  },
  "language_info": {
   "codemirror_mode": {
    "name": "ipython",
    "version": 3
   },
   "file_extension": ".py",
   "mimetype": "text/x-python",
   "name": "python",
   "nbconvert_exporter": "python",
   "pygments_lexer": "ipython3",
   "version": "3.8.12"
  }
 },
 "nbformat": 4,
 "nbformat_minor": 2
}
